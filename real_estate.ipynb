{
 "cells": [
  {
   "cell_type": "code",
   "id": "initial_id",
   "metadata": {
    "collapsed": true,
    "ExecuteTime": {
     "end_time": "2025-04-27T11:08:00.582535Z",
     "start_time": "2025-04-27T11:08:00.576182Z"
    }
   },
   "source": [
    "import pandas as pd\n",
    "import numpy as np\n",
    "\n",
    "from category_encoders import OneHotEncoder\n",
    "from sklearn.pipeline import make_pipeline\n",
    "from sklearn.ensemble import GradientBoostingRegressor\n",
    "from sklearn.metrics import mean_absolute_error\n",
    "from sklearn.model_selection import train_test_split\n",
    "\n",
    "import matplotlib.pyplot as plt\n",
    "from ipywidgets import interact, IntSlider, FloatSlider, Dropdown\n"
   ],
   "outputs": [],
   "execution_count": 107
  },
  {
   "metadata": {
    "ExecuteTime": {
     "end_time": "2025-04-27T11:08:00.641058Z",
     "start_time": "2025-04-27T11:08:00.624532Z"
    }
   },
   "cell_type": "code",
   "source": [
    "replacement_dict = {\n",
    "    **{f\"{i}. Kat\": str(i) for i in range(1, 31)},\n",
    "    \"Bahçe Katı\": \"0\",\n",
    "    \"Düz Giriş\": \"0\",\n",
    "    \"Yüksek Giriş\": \"0\"\n",
    "}\n",
    "replacement_dict"
   ],
   "id": "3dc86c6317170ad0",
   "outputs": [
    {
     "data": {
      "text/plain": [
       "{'1. Kat': '1',\n",
       " '2. Kat': '2',\n",
       " '3. Kat': '3',\n",
       " '4. Kat': '4',\n",
       " '5. Kat': '5',\n",
       " '6. Kat': '6',\n",
       " '7. Kat': '7',\n",
       " '8. Kat': '8',\n",
       " '9. Kat': '9',\n",
       " '10. Kat': '10',\n",
       " '11. Kat': '11',\n",
       " '12. Kat': '12',\n",
       " '13. Kat': '13',\n",
       " '14. Kat': '14',\n",
       " '15. Kat': '15',\n",
       " '16. Kat': '16',\n",
       " '17. Kat': '17',\n",
       " '18. Kat': '18',\n",
       " '19. Kat': '19',\n",
       " '20. Kat': '20',\n",
       " '21. Kat': '21',\n",
       " '22. Kat': '22',\n",
       " '23. Kat': '23',\n",
       " '24. Kat': '24',\n",
       " '25. Kat': '25',\n",
       " '26. Kat': '26',\n",
       " '27. Kat': '27',\n",
       " '28. Kat': '28',\n",
       " '29. Kat': '29',\n",
       " '30. Kat': '30',\n",
       " 'Bahçe Katı': '0',\n",
       " 'Düz Giriş': '0',\n",
       " 'Yüksek Giriş': '0'}"
      ]
     },
     "execution_count": 108,
     "metadata": {},
     "output_type": "execute_result"
    }
   ],
   "execution_count": 108
  },
  {
   "metadata": {
    "ExecuteTime": {
     "end_time": "2025-04-27T11:08:00.812112Z",
     "start_time": "2025-04-27T11:08:00.767473Z"
    }
   },
   "cell_type": "code",
   "source": [
    "df = pd.read_csv(\"C:/Users/MERT/Desktop/ikcu_dersler/Yazılım Yüksek Lisans/2. Dönem/Python Programlama/Vize-Final/Final/Real Estate in ISTANBUL (Emlakjet).csv\", encoding='utf-8')\n",
    "df.head()"
   ],
   "id": "643b4e46769b2e18",
   "outputs": [
    {
     "data": {
      "text/plain": [
       "   İlan_Numarası İlan_Güncelleme_Tarihi Kategorisi  Brüt_Metrekare  \\\n",
       "0           2003         02 Şubat 2022    Satılık              190   \n",
       "1            166          14 Ocak 2022    Satılık              300   \n",
       "2            167          14 Ocak 2022    Satılık              350   \n",
       "3            115          06 Ocak 2022    Satılık              450   \n",
       "4           2879         08 Şubat 2022    Satılık              160   \n",
       "\n",
       "   Binanın_Yaşı  Binanın_Kat_Sayısı        Kullanım_Durumu Yatırıma_Uygunluk  \\\n",
       "0         5-10                   20       Kiracı Oturuyor        Bilinmiyor    \n",
       "1  21 Ve Üzeri                    2       Kiracı Oturuyor        Bilinmiyor    \n",
       "2  21 Ve Üzeri                    3  Mülk Sahibi Oturuyor        Bilinmiyor    \n",
       "3         5-10                    4       Kiracı Oturuyor        Bilinmiyor    \n",
       "4  21 Ve Üzeri                    2  Mülk Sahibi Oturuyor        Bilinmiyor    \n",
       "\n",
       "  Eşya_Durumu Banyo_Sayısı  ... Site_İçerisinde Takas  Fiyat_Durumu    Fiyatı  \\\n",
       "0         Yok           2   ...           Hayır   Var  Genel Fiyat   18000000   \n",
       "1         Yok           3   ...           Hayır   Var  Genel Fiyat    8500000   \n",
       "2         Yok           2   ...           Hayır   Var  Genel Fiyat   16500000   \n",
       "3         Yok           3   ...           Hayır   Var  Genel Fiyat   22000000   \n",
       "4         Yok           1   ...           Hayır   Var  Genel Fiyat    4250000   \n",
       "\n",
       "          İl        İlçe                Mahalle           yaka Yaşam_endeksi  \\\n",
       "0  İstanbul    Beşiktaş    Nisbetiye Mahallesi   Avrupa Yakası         0.911   \n",
       "1  İstanbul    Beşiktaş         Akat Mahallesi   Avrupa Yakası         0.911   \n",
       "2  İstanbul    Beşiktaş       Levent Mahallesi   Avrupa Yakası         0.911   \n",
       "3  İstanbul    Beşiktaş      Levazım Mahallesi   Avrupa Yakası         0.911   \n",
       "4  İstanbul    Beşiktaş    Nisbetiye Mahallesi   Avrupa Yakası         0.911   \n",
       "\n",
       "     Nüfus  \n",
       "0  178.938  \n",
       "1  178.938  \n",
       "2  178.938  \n",
       "3  178.938  \n",
       "4  178.938  \n",
       "\n",
       "[5 rows x 27 columns]"
      ],
      "text/html": [
       "<div>\n",
       "<style scoped>\n",
       "    .dataframe tbody tr th:only-of-type {\n",
       "        vertical-align: middle;\n",
       "    }\n",
       "\n",
       "    .dataframe tbody tr th {\n",
       "        vertical-align: top;\n",
       "    }\n",
       "\n",
       "    .dataframe thead th {\n",
       "        text-align: right;\n",
       "    }\n",
       "</style>\n",
       "<table border=\"1\" class=\"dataframe\">\n",
       "  <thead>\n",
       "    <tr style=\"text-align: right;\">\n",
       "      <th></th>\n",
       "      <th>İlan_Numarası</th>\n",
       "      <th>İlan_Güncelleme_Tarihi</th>\n",
       "      <th>Kategorisi</th>\n",
       "      <th>Brüt_Metrekare</th>\n",
       "      <th>Binanın_Yaşı</th>\n",
       "      <th>Binanın_Kat_Sayısı</th>\n",
       "      <th>Kullanım_Durumu</th>\n",
       "      <th>Yatırıma_Uygunluk</th>\n",
       "      <th>Eşya_Durumu</th>\n",
       "      <th>Banyo_Sayısı</th>\n",
       "      <th>...</th>\n",
       "      <th>Site_İçerisinde</th>\n",
       "      <th>Takas</th>\n",
       "      <th>Fiyat_Durumu</th>\n",
       "      <th>Fiyatı</th>\n",
       "      <th>İl</th>\n",
       "      <th>İlçe</th>\n",
       "      <th>Mahalle</th>\n",
       "      <th>yaka</th>\n",
       "      <th>Yaşam_endeksi</th>\n",
       "      <th>Nüfus</th>\n",
       "    </tr>\n",
       "  </thead>\n",
       "  <tbody>\n",
       "    <tr>\n",
       "      <th>0</th>\n",
       "      <td>2003</td>\n",
       "      <td>02 Şubat 2022</td>\n",
       "      <td>Satılık</td>\n",
       "      <td>190</td>\n",
       "      <td>5-10</td>\n",
       "      <td>20</td>\n",
       "      <td>Kiracı Oturuyor</td>\n",
       "      <td>Bilinmiyor</td>\n",
       "      <td>Yok</td>\n",
       "      <td>2</td>\n",
       "      <td>...</td>\n",
       "      <td>Hayır</td>\n",
       "      <td>Var</td>\n",
       "      <td>Genel Fiyat</td>\n",
       "      <td>18000000</td>\n",
       "      <td>İstanbul</td>\n",
       "      <td>Beşiktaş</td>\n",
       "      <td>Nisbetiye Mahallesi</td>\n",
       "      <td>Avrupa Yakası</td>\n",
       "      <td>0.911</td>\n",
       "      <td>178.938</td>\n",
       "    </tr>\n",
       "    <tr>\n",
       "      <th>1</th>\n",
       "      <td>166</td>\n",
       "      <td>14 Ocak 2022</td>\n",
       "      <td>Satılık</td>\n",
       "      <td>300</td>\n",
       "      <td>21 Ve Üzeri</td>\n",
       "      <td>2</td>\n",
       "      <td>Kiracı Oturuyor</td>\n",
       "      <td>Bilinmiyor</td>\n",
       "      <td>Yok</td>\n",
       "      <td>3</td>\n",
       "      <td>...</td>\n",
       "      <td>Hayır</td>\n",
       "      <td>Var</td>\n",
       "      <td>Genel Fiyat</td>\n",
       "      <td>8500000</td>\n",
       "      <td>İstanbul</td>\n",
       "      <td>Beşiktaş</td>\n",
       "      <td>Akat Mahallesi</td>\n",
       "      <td>Avrupa Yakası</td>\n",
       "      <td>0.911</td>\n",
       "      <td>178.938</td>\n",
       "    </tr>\n",
       "    <tr>\n",
       "      <th>2</th>\n",
       "      <td>167</td>\n",
       "      <td>14 Ocak 2022</td>\n",
       "      <td>Satılık</td>\n",
       "      <td>350</td>\n",
       "      <td>21 Ve Üzeri</td>\n",
       "      <td>3</td>\n",
       "      <td>Mülk Sahibi Oturuyor</td>\n",
       "      <td>Bilinmiyor</td>\n",
       "      <td>Yok</td>\n",
       "      <td>2</td>\n",
       "      <td>...</td>\n",
       "      <td>Hayır</td>\n",
       "      <td>Var</td>\n",
       "      <td>Genel Fiyat</td>\n",
       "      <td>16500000</td>\n",
       "      <td>İstanbul</td>\n",
       "      <td>Beşiktaş</td>\n",
       "      <td>Levent Mahallesi</td>\n",
       "      <td>Avrupa Yakası</td>\n",
       "      <td>0.911</td>\n",
       "      <td>178.938</td>\n",
       "    </tr>\n",
       "    <tr>\n",
       "      <th>3</th>\n",
       "      <td>115</td>\n",
       "      <td>06 Ocak 2022</td>\n",
       "      <td>Satılık</td>\n",
       "      <td>450</td>\n",
       "      <td>5-10</td>\n",
       "      <td>4</td>\n",
       "      <td>Kiracı Oturuyor</td>\n",
       "      <td>Bilinmiyor</td>\n",
       "      <td>Yok</td>\n",
       "      <td>3</td>\n",
       "      <td>...</td>\n",
       "      <td>Hayır</td>\n",
       "      <td>Var</td>\n",
       "      <td>Genel Fiyat</td>\n",
       "      <td>22000000</td>\n",
       "      <td>İstanbul</td>\n",
       "      <td>Beşiktaş</td>\n",
       "      <td>Levazım Mahallesi</td>\n",
       "      <td>Avrupa Yakası</td>\n",
       "      <td>0.911</td>\n",
       "      <td>178.938</td>\n",
       "    </tr>\n",
       "    <tr>\n",
       "      <th>4</th>\n",
       "      <td>2879</td>\n",
       "      <td>08 Şubat 2022</td>\n",
       "      <td>Satılık</td>\n",
       "      <td>160</td>\n",
       "      <td>21 Ve Üzeri</td>\n",
       "      <td>2</td>\n",
       "      <td>Mülk Sahibi Oturuyor</td>\n",
       "      <td>Bilinmiyor</td>\n",
       "      <td>Yok</td>\n",
       "      <td>1</td>\n",
       "      <td>...</td>\n",
       "      <td>Hayır</td>\n",
       "      <td>Var</td>\n",
       "      <td>Genel Fiyat</td>\n",
       "      <td>4250000</td>\n",
       "      <td>İstanbul</td>\n",
       "      <td>Beşiktaş</td>\n",
       "      <td>Nisbetiye Mahallesi</td>\n",
       "      <td>Avrupa Yakası</td>\n",
       "      <td>0.911</td>\n",
       "      <td>178.938</td>\n",
       "    </tr>\n",
       "  </tbody>\n",
       "</table>\n",
       "<p>5 rows × 27 columns</p>\n",
       "</div>"
      ]
     },
     "execution_count": 109,
     "metadata": {},
     "output_type": "execute_result"
    }
   ],
   "execution_count": 109
  },
  {
   "metadata": {
    "ExecuteTime": {
     "end_time": "2025-04-27T11:08:01.034440Z",
     "start_time": "2025-04-27T11:08:00.939449Z"
    }
   },
   "cell_type": "code",
   "source": [
    "def wrangle(filepath: str) -> pd.DataFrame:\n",
    "    df = pd.read_csv(filepath, encoding='utf-8')\n",
    "\n",
    "    df.drop(columns=[\n",
    "        \"İlan_Numarası\", \"İlan_Güncelleme_Tarihi\", \"Kategorisi\", \"İlan_Oluşturma_Tarihi\", \"Türü\",\n",
    "        \"Fiyat_Durumu\", \"İl\", \"Brüt_Metrekare\", \"Kullanım_Durumu\", \"Yatırıma_Uygunluk\",\n",
    "        \"Krediye_Uygunluk\", \"Takas\", \"Eşya_Durumu\", \"Site_İçerisinde\", \"Yaşam_endeksi\", \"Nüfus\"\n",
    "    ], inplace=True)\n",
    "\n",
    "    area_low, area_high = df[\"Net_Metrekare\"].quantile([0.05, 0.95])\n",
    "    df = df[df[\"Net_Metrekare\"].between(area_low, area_high)]\n",
    "\n",
    "    price_low, price_high = df[\"Fiyatı\"].quantile([0.05, 0.95])\n",
    "    df = df[df[\"Fiyatı\"].between(price_low, price_high)]\n",
    "\n",
    "    df[\"Fiyatı\"] = df[\"Fiyatı\"] / 1_000_000\n",
    "\n",
    "    df[\"Banyo_Sayısı\"] = df[\"Banyo_Sayısı\"].str.strip().replace({\n",
    "        \"Var\": \"1\", \"Yok\": \"0\", \"6+\": \"6\", \"28 M2\": \"2\"\n",
    "    })\n",
    "    df = df[df[\"Banyo_Sayısı\"] != \"Genel Fiyat\"]\n",
    "    df[\"Banyo_Sayısı\"] = df[\"Banyo_Sayısı\"].astype(int)\n",
    "\n",
    "    df[\"Binanın_Yaşı\"] = df[\"Binanın_Yaşı\"].str.strip().replace({\n",
    "        \"21 Ve Üzeri\": \"21\", \"0 (Yeni)\": \"0\",\n",
    "        \"16-20\": \"20\", \"11-15\": \"15\", \"5-10\": \"10\"\n",
    "    }).astype(int)\n",
    "\n",
    "    df[\"Bulunduğu_Kat\"] = df[\"Bulunduğu_Kat\"].str.strip().replace(replacement_dict)\n",
    "    df[\"Bulunduğu_Kat\"] = df[\"Bulunduğu_Kat\"].replace({\n",
    "        \"30-40. Kat\": \"40\", \"10-20. Kat\": \"20\", \"Kot 1 (-1). Kat\": \"-1\",\n",
    "        \"Kot 2 (-2). Kat\": \"-2\", \"Kot 3 (-3). Kat\": \"-3\", \"Villa Tipi\": \"0\",\n",
    "        \"Müstakil\": \"0\", \"Tam Bodrum\": \"0\"\n",
    "    })\n",
    "\n",
    "    df.loc[df[\"Bulunduğu_Kat\"].isin([\"Çatı Katı\", \"Çatı Dubleks\"]), \"Bulunduğu_Kat\"] = df[\"Binanın_Kat_Sayısı\"]\n",
    "    df[\"Bulunduğu_Kat\"] = df[\"Bulunduğu_Kat\"].astype(int)\n",
    "\n",
    "    df = df.map(lambda x: x.strip() if isinstance(x, str) else x)\n",
    "    df[\"Oda_Sayısı\"] = df[\"Oda_Sayısı\"].replace({\n",
    "        \"Stüdyo\": \"1+0\", \"1 Oda\": \"1+0\", \"8+ Oda\": \"1+0\"\n",
    "    })\n",
    "\n",
    "    df[[\"oda\", \"salon\"]] = df[\"Oda_Sayısı\"].str.split(\"+\", expand=True).astype(float)\n",
    "    df[\"Oda_Sayısı\"] = df[\"oda\"] + df[\"salon\"]\n",
    "    df.drop(columns=[\"oda\", \"salon\"], inplace=True)\n",
    "\n",
    "    return df\n",
    "\n",
    "csv_path = \"data/real_estate_istanbul.csv\"\n",
    "df = wrangle(csv_path)"
   ],
   "id": "51d9bf3de4e168d8",
   "outputs": [],
   "execution_count": 110
  },
  {
   "metadata": {
    "ExecuteTime": {
     "end_time": "2025-04-27T11:08:01.118223Z",
     "start_time": "2025-04-27T11:08:01.094435Z"
    }
   },
   "cell_type": "code",
   "source": "df.head()",
   "id": "115c7db6f37de3b1",
   "outputs": [
    {
     "data": {
      "text/plain": [
       "   Binanın_Yaşı  Binanın_Kat_Sayısı  Banyo_Sayısı  Net_Metrekare  Oda_Sayısı  \\\n",
       "1            21                   2             3            270         6.0   \n",
       "4            21                   2             1            140         4.0   \n",
       "5            21                   4             1             55         3.0   \n",
       "7            21                   7             1             85         3.0   \n",
       "8            21                   9             1            130         4.0   \n",
       "\n",
       "   Bulunduğu_Kat Isıtma_Tipi  Fiyatı      İlçe               Mahalle  \\\n",
       "1              0    Doğalgaz   8.500  Beşiktaş        Akat Mahallesi   \n",
       "4              1    Doğalgaz   4.250  Beşiktaş   Nisbetiye Mahallesi   \n",
       "5              0    Doğalgaz   0.875  Beşiktaş  Arnavutköy Mahallesi   \n",
       "7              0    Doğalgaz   1.250  Beşiktaş      Etiler Mahallesi   \n",
       "8              8    Doğalgaz   4.950  Beşiktaş   Nisbetiye Mahallesi   \n",
       "\n",
       "            yaka  \n",
       "1  Avrupa Yakası  \n",
       "4  Avrupa Yakası  \n",
       "5  Avrupa Yakası  \n",
       "7  Avrupa Yakası  \n",
       "8  Avrupa Yakası  "
      ],
      "text/html": [
       "<div>\n",
       "<style scoped>\n",
       "    .dataframe tbody tr th:only-of-type {\n",
       "        vertical-align: middle;\n",
       "    }\n",
       "\n",
       "    .dataframe tbody tr th {\n",
       "        vertical-align: top;\n",
       "    }\n",
       "\n",
       "    .dataframe thead th {\n",
       "        text-align: right;\n",
       "    }\n",
       "</style>\n",
       "<table border=\"1\" class=\"dataframe\">\n",
       "  <thead>\n",
       "    <tr style=\"text-align: right;\">\n",
       "      <th></th>\n",
       "      <th>Binanın_Yaşı</th>\n",
       "      <th>Binanın_Kat_Sayısı</th>\n",
       "      <th>Banyo_Sayısı</th>\n",
       "      <th>Net_Metrekare</th>\n",
       "      <th>Oda_Sayısı</th>\n",
       "      <th>Bulunduğu_Kat</th>\n",
       "      <th>Isıtma_Tipi</th>\n",
       "      <th>Fiyatı</th>\n",
       "      <th>İlçe</th>\n",
       "      <th>Mahalle</th>\n",
       "      <th>yaka</th>\n",
       "    </tr>\n",
       "  </thead>\n",
       "  <tbody>\n",
       "    <tr>\n",
       "      <th>1</th>\n",
       "      <td>21</td>\n",
       "      <td>2</td>\n",
       "      <td>3</td>\n",
       "      <td>270</td>\n",
       "      <td>6.0</td>\n",
       "      <td>0</td>\n",
       "      <td>Doğalgaz</td>\n",
       "      <td>8.500</td>\n",
       "      <td>Beşiktaş</td>\n",
       "      <td>Akat Mahallesi</td>\n",
       "      <td>Avrupa Yakası</td>\n",
       "    </tr>\n",
       "    <tr>\n",
       "      <th>4</th>\n",
       "      <td>21</td>\n",
       "      <td>2</td>\n",
       "      <td>1</td>\n",
       "      <td>140</td>\n",
       "      <td>4.0</td>\n",
       "      <td>1</td>\n",
       "      <td>Doğalgaz</td>\n",
       "      <td>4.250</td>\n",
       "      <td>Beşiktaş</td>\n",
       "      <td>Nisbetiye Mahallesi</td>\n",
       "      <td>Avrupa Yakası</td>\n",
       "    </tr>\n",
       "    <tr>\n",
       "      <th>5</th>\n",
       "      <td>21</td>\n",
       "      <td>4</td>\n",
       "      <td>1</td>\n",
       "      <td>55</td>\n",
       "      <td>3.0</td>\n",
       "      <td>0</td>\n",
       "      <td>Doğalgaz</td>\n",
       "      <td>0.875</td>\n",
       "      <td>Beşiktaş</td>\n",
       "      <td>Arnavutköy Mahallesi</td>\n",
       "      <td>Avrupa Yakası</td>\n",
       "    </tr>\n",
       "    <tr>\n",
       "      <th>7</th>\n",
       "      <td>21</td>\n",
       "      <td>7</td>\n",
       "      <td>1</td>\n",
       "      <td>85</td>\n",
       "      <td>3.0</td>\n",
       "      <td>0</td>\n",
       "      <td>Doğalgaz</td>\n",
       "      <td>1.250</td>\n",
       "      <td>Beşiktaş</td>\n",
       "      <td>Etiler Mahallesi</td>\n",
       "      <td>Avrupa Yakası</td>\n",
       "    </tr>\n",
       "    <tr>\n",
       "      <th>8</th>\n",
       "      <td>21</td>\n",
       "      <td>9</td>\n",
       "      <td>1</td>\n",
       "      <td>130</td>\n",
       "      <td>4.0</td>\n",
       "      <td>8</td>\n",
       "      <td>Doğalgaz</td>\n",
       "      <td>4.950</td>\n",
       "      <td>Beşiktaş</td>\n",
       "      <td>Nisbetiye Mahallesi</td>\n",
       "      <td>Avrupa Yakası</td>\n",
       "    </tr>\n",
       "  </tbody>\n",
       "</table>\n",
       "</div>"
      ]
     },
     "execution_count": 111,
     "metadata": {},
     "output_type": "execute_result"
    }
   ],
   "execution_count": 111
  },
  {
   "metadata": {
    "ExecuteTime": {
     "end_time": "2025-04-27T11:08:01.724403Z",
     "start_time": "2025-04-27T11:08:01.248791Z"
    }
   },
   "cell_type": "code",
   "source": [
    "plt.figure(figsize=(8, 5))\n",
    "plt.scatter(df[\"Net_Metrekare\"], df[\"Fiyatı\"])\n",
    "plt.xlabel(\"Net Area (m²)\")\n",
    "plt.ylabel(\"Price (Million TL)\")\n",
    "plt.title(\"Price vs Net Area\")\n",
    "plt.grid(True)\n",
    "plt.tight_layout()\n",
    "plt.show()"
   ],
   "id": "3c8c10194f8a468c",
   "outputs": [
    {
     "data": {
      "text/plain": [
       "<Figure size 800x500 with 1 Axes>"
      ],
      "image/png": "[encoded data removed]"
     },
     "metadata": {},
     "output_type": "display_data"
    }
   ],
   "execution_count": 112
  },
  {
   "metadata": {
    "ExecuteTime": {
     "end_time": "2025-04-27T11:08:02.685818Z",
     "start_time": "2025-04-27T11:08:02.405916Z"
    }
   },
   "cell_type": "code",
   "source": [
    "plt.figure(figsize=(8, 5))\n",
    "plt.hist(df[\"Fiyatı\"], bins=30, color='skyblue', edgecolor='black')\n",
    "plt.xlabel(\"Price (Million TL)\")\n",
    "plt.ylabel(\"Count\")\n",
    "plt.title(\"Distribution of Housing Prices\")\n",
    "plt.grid(axis='y', linestyle='--', alpha=0.7)\n",
    "plt.tight_layout()\n",
    "plt.show()\n"
   ],
   "id": "13b30d6914885b1f",
   "outputs": [
    {
     "data": {
      "text/plain": [
       "<Figure size 800x500 with 1 Axes>"
      ],
      "image/png": "[encoded data removed]"
     },
     "metadata": {},
     "output_type": "display_data"
    }
   ],
   "execution_count": 113
  },
  {
   "metadata": {
    "ExecuteTime": {
     "end_time": "2025-04-27T11:08:02.963099Z",
     "start_time": "2025-04-27T11:08:02.719818Z"
    }
   },
   "cell_type": "code",
   "source": [
    "avg_price_by_district = df.groupby(\"İlçe\")[\"Fiyatı\"].mean().sort_values(ascending=False)\n",
    "\n",
    "print(avg_price_by_district.head())\n",
    "\n",
    "plt.figure(figsize=(10, 6))\n",
    "avg_price_by_district.plot(kind=\"bar\", color=\"orange\", edgecolor=\"black\")\n",
    "plt.xlabel(\"District\")\n",
    "plt.ylabel(\"Average Price (Million TL)\")\n",
    "plt.title(\"Average Housing Prices by District\")\n",
    "plt.xticks(rotation=45, ha='right')\n",
    "plt.tight_layout()\n",
    "plt.grid(axis='y', linestyle='--', alpha=0.5)\n",
    "plt.show()\n"
   ],
   "id": "20b9918dbca4bdd7",
   "outputs": [
    {
     "name": "stdout",
     "output_type": "stream",
     "text": [
      "İlçe\n",
      "Şişli       5.766667\n",
      "Kadıköy     4.895845\n",
      "Sarıyer     4.614263\n",
      "Beşiktaş    4.566080\n",
      "Bakırköy    3.658057\n",
      "Name: Fiyatı, dtype: float64\n"
     ]
    },
    {
     "data": {
      "text/plain": [
       "<Figure size 1000x600 with 1 Axes>"
      ],
      "image/png": "[encoded data removed]"
     },
     "metadata": {},
     "output_type": "display_data"
    }
   ],
   "execution_count": 114
  },
  {
   "metadata": {
    "ExecuteTime": {
     "end_time": "2025-04-27T11:08:03.044193Z",
     "start_time": "2025-04-27T11:08:03.025178Z"
    }
   },
   "cell_type": "code",
   "source": [
    "y = df[\"Fiyatı\"]\n",
    "X = df.drop(columns=[\"Fiyatı\"])\n",
    "\n",
    "X_train, X_test, y_train, y_test = train_test_split(\n",
    "    X, y, test_size=0.05, random_state=42\n",
    ")\n",
    "\n",
    "print(f\"Training samples: {len(X_train)}\")\n",
    "print(f\"Test samples: {len(X_test)}\")"
   ],
   "id": "34e68b07d3648ffd",
   "outputs": [
    {
     "name": "stdout",
     "output_type": "stream",
     "text": [
      "Training samples: 2300\n",
      "Test samples: 122\n"
     ]
    }
   ],
   "execution_count": 115
  },
  {
   "metadata": {
    "ExecuteTime": {
     "end_time": "2025-04-27T11:08:03.107252Z",
     "start_time": "2025-04-27T11:08:03.096023Z"
    }
   },
   "cell_type": "code",
   "source": [
    "\n",
    "baseline_prediction = [y_train.mean()] * len(y_train)\n",
    "baseline_mae = mean_absolute_error(y_train, baseline_prediction)\n",
    "\n",
    "print(f\"Mean Housing Price: {y_train.mean():.2f} Million TL\")\n",
    "print(f\"Baseline MAE: {baseline_mae:.4f}\")"
   ],
   "id": "f4a0b305eecc87f4",
   "outputs": [
    {
     "name": "stdout",
     "output_type": "stream",
     "text": [
      "Mean Housing Price: 2.46 Million TL\n",
      "Baseline MAE: 1.6597\n"
     ]
    }
   ],
   "execution_count": 116
  },
  {
   "metadata": {
    "ExecuteTime": {
     "end_time": "2025-04-27T11:08:10.241940Z",
     "start_time": "2025-04-27T11:08:03.164691Z"
    }
   },
   "cell_type": "code",
   "source": [
    "y_train_log = np.log1p(y_train)\n",
    "\n",
    "model = make_pipeline(\n",
    "    OneHotEncoder(use_cat_names=True, handle_unknown=\"ignore\"),\n",
    "    GradientBoostingRegressor(\n",
    "        n_estimators=800,\n",
    "        learning_rate=0.05,\n",
    "        max_depth=3,\n",
    "        subsample=0.8,\n",
    "        random_state=42\n",
    "    )\n",
    ")\n",
    "model.fit(X_train, y_train_log)\n",
    "\n",
    "\n",
    "y_pred_log = model.predict(X_test)\n",
    "y_pred = np.expm1(y_pred_log)\n",
    "\n",
    "print(\"MAE:\", mean_absolute_error(y_test, y_pred))\n"
   ],
   "id": "496a02c286ba98f6",
   "outputs": [
    {
     "name": "stdout",
     "output_type": "stream",
     "text": [
      "MAE: 0.7516515452441833\n"
     ]
    }
   ],
   "execution_count": 117
  },
  {
   "metadata": {
    "ExecuteTime": {
     "end_time": "2025-04-27T11:08:10.355248Z",
     "start_time": "2025-04-27T11:08:10.334887Z"
    }
   },
   "cell_type": "code",
   "source": [
    "rf_model = model.named_steps[\"gradientboostingregressor\"]\n",
    "features = model.named_steps[\"onehotencoder\"].get_feature_names_out()\n",
    "feat_importance = pd.Series(rf_model.feature_importances_, index=features).sort_values()\n",
    "\n",
    "print(\"\\nTop 10 Most Important Features:\")\n",
    "print(feat_importance.tail(10))\n",
    "\n",
    "print(\"\\nTop 10 Least Important Features:\")\n",
    "print(feat_importance.head(10))\n"
   ],
   "id": "b1ba512408771bfc",
   "outputs": [
    {
     "name": "stdout",
     "output_type": "stream",
     "text": [
      "\n",
      "Top 10 Most Important Features:\n",
      "İlçe_Esenyurt         0.026048\n",
      "Binanın_Yaşı          0.032261\n",
      "Bulunduğu_Kat         0.035063\n",
      "İlçe_Bakırköy         0.057362\n",
      "Binanın_Kat_Sayısı    0.067313\n",
      "İlçe_Sarıyer          0.068230\n",
      "İlçe_Beşiktaş         0.068566\n",
      "Net_Metrekare         0.142545\n",
      "Banyo_Sayısı          0.159307\n",
      "İlçe_Kadıköy          0.163895\n",
      "dtype: float64\n",
      "\n",
      "Top 10 Least Important Features:\n",
      "Mahalle_Ahmet Yesevi Mahallesi     0.0\n",
      "Mahalle_İncirtepe Mahallesi        0.0\n",
      "Mahalle_Adnan Kahveci Mahallesi    0.0\n",
      "Mahalle_Caddebostan Mahallesi      0.0\n",
      "Mahalle_Şeyhli Mahallesi           0.0\n",
      "Mahalle_Güzelyalı Mahallesi        0.0\n",
      "Mahalle_İnönü Mahallesi            0.0\n",
      "Mahalle_Mehterçeşme Mahallesi      0.0\n",
      "Mahalle_Yeşilkent Mahallesi        0.0\n",
      "Mahalle_Yenişehir Mahallesi        0.0\n",
      "dtype: float64\n"
     ]
    }
   ],
   "execution_count": 118
  },
  {
   "metadata": {
    "ExecuteTime": {
     "end_time": "2025-04-27T11:08:10.600803Z",
     "start_time": "2025-04-27T11:08:10.393255Z"
    }
   },
   "cell_type": "code",
   "source": [
    "plt.figure(figsize=(10, 6))\n",
    "feat_importance.tail(10).plot(kind='barh', color='green')\n",
    "plt.title(\"Top 10 Features Increasing Price\")\n",
    "plt.xlabel(\"Coefficient\")\n",
    "plt.grid(True)\n",
    "plt.tight_layout()\n",
    "plt.show()\n"
   ],
   "id": "8e7dce8797d57a26",
   "outputs": [
    {
     "data": {
      "text/plain": [
       "<Figure size 1000x600 with 1 Axes>"
      ],
      "image/png": "[encoded data removed]"
     },
     "metadata": {},
     "output_type": "display_data"
    }
   ],
   "execution_count": 119
  },
  {
   "metadata": {
    "ExecuteTime": {
     "end_time": "2025-04-27T11:08:10.670926Z",
     "start_time": "2025-04-27T11:08:10.645424Z"
    }
   },
   "cell_type": "code",
   "source": [
    "y_test_pred = pd.Series(model.predict(X_test), index=X_test.index)\n",
    "\n",
    "print(\"Sample Predictions:\")\n",
    "print(y_test_pred.head())\n",
    "\n",
    "test_mae = mean_absolute_error(y_test, y_test_pred)\n",
    "print(f\"\\nTest MAE: {test_mae:.4f} Million TL\")\n"
   ],
   "id": "8798d15682b8a2fc",
   "outputs": [
    {
     "name": "stdout",
     "output_type": "stream",
     "text": [
      "Sample Predictions:\n",
      "798     0.828411\n",
      "1549    1.359459\n",
      "1126    0.631655\n",
      "415     1.171404\n",
      "796     0.827234\n",
      "dtype: float64\n",
      "\n",
      "Test MAE: 1.2915 Million TL\n"
     ]
    }
   ],
   "execution_count": 120
  },
  {
   "metadata": {
    "ExecuteTime": {
     "end_time": "2025-04-27T11:08:10.737237Z",
     "start_time": "2025-04-27T11:08:10.723925Z"
    }
   },
   "cell_type": "code",
   "source": [
    "MAE_test = mean_absolute_error(y_test, y_test_pred)\n",
    "print(f\"Baseline MAE (mean predictor): {baseline_mae:.4f}\")\n",
    "print(f\"Test MAE (ridge model):        {MAE_test:.4f}\")\n"
   ],
   "id": "6016ce9228fe088f",
   "outputs": [
    {
     "name": "stdout",
     "output_type": "stream",
     "text": [
      "Baseline MAE (mean predictor): 1.6597\n",
      "Test MAE (ridge model):        1.2915\n"
     ]
    }
   ],
   "execution_count": 121
  },
  {
   "metadata": {
    "ExecuteTime": {
     "end_time": "2025-04-27T11:08:10.813457Z",
     "start_time": "2025-04-27T11:08:10.795670Z"
    }
   },
   "cell_type": "code",
   "source": [
    "results = pd.DataFrame({\n",
    "    'Actual Price': y_test,\n",
    "    'Predicted Price': y_test_pred\n",
    "})\n",
    "\n",
    "results.head(10)"
   ],
   "id": "1a0ea286a4788100",
   "outputs": [
    {
     "data": {
      "text/plain": [
       "      Actual Price  Predicted Price\n",
       "798          0.830         0.828411\n",
       "1549         3.650         1.359459\n",
       "1126         0.545         0.631655\n",
       "415          2.000         1.171404\n",
       "796          0.620         0.827234\n",
       "152          4.550         1.794612\n",
       "353          0.700         0.949573\n",
       "2832         3.500         1.908785\n",
       "1205         4.150         0.995276\n",
       "778          1.250         1.083231"
      ],
      "text/html": [
       "<div>\n",
       "<style scoped>\n",
       "    .dataframe tbody tr th:only-of-type {\n",
       "        vertical-align: middle;\n",
       "    }\n",
       "\n",
       "    .dataframe tbody tr th {\n",
       "        vertical-align: top;\n",
       "    }\n",
       "\n",
       "    .dataframe thead th {\n",
       "        text-align: right;\n",
       "    }\n",
       "</style>\n",
       "<table border=\"1\" class=\"dataframe\">\n",
       "  <thead>\n",
       "    <tr style=\"text-align: right;\">\n",
       "      <th></th>\n",
       "      <th>Actual Price</th>\n",
       "      <th>Predicted Price</th>\n",
       "    </tr>\n",
       "  </thead>\n",
       "  <tbody>\n",
       "    <tr>\n",
       "      <th>798</th>\n",
       "      <td>0.830</td>\n",
       "      <td>0.828411</td>\n",
       "    </tr>\n",
       "    <tr>\n",
       "      <th>1549</th>\n",
       "      <td>3.650</td>\n",
       "      <td>1.359459</td>\n",
       "    </tr>\n",
       "    <tr>\n",
       "      <th>1126</th>\n",
       "      <td>0.545</td>\n",
       "      <td>0.631655</td>\n",
       "    </tr>\n",
       "    <tr>\n",
       "      <th>415</th>\n",
       "      <td>2.000</td>\n",
       "      <td>1.171404</td>\n",
       "    </tr>\n",
       "    <tr>\n",
       "      <th>796</th>\n",
       "      <td>0.620</td>\n",
       "      <td>0.827234</td>\n",
       "    </tr>\n",
       "    <tr>\n",
       "      <th>152</th>\n",
       "      <td>4.550</td>\n",
       "      <td>1.794612</td>\n",
       "    </tr>\n",
       "    <tr>\n",
       "      <th>353</th>\n",
       "      <td>0.700</td>\n",
       "      <td>0.949573</td>\n",
       "    </tr>\n",
       "    <tr>\n",
       "      <th>2832</th>\n",
       "      <td>3.500</td>\n",
       "      <td>1.908785</td>\n",
       "    </tr>\n",
       "    <tr>\n",
       "      <th>1205</th>\n",
       "      <td>4.150</td>\n",
       "      <td>0.995276</td>\n",
       "    </tr>\n",
       "    <tr>\n",
       "      <th>778</th>\n",
       "      <td>1.250</td>\n",
       "      <td>1.083231</td>\n",
       "    </tr>\n",
       "  </tbody>\n",
       "</table>\n",
       "</div>"
      ]
     },
     "execution_count": 122,
     "metadata": {},
     "output_type": "execute_result"
    }
   ],
   "execution_count": 122
  },
  {
   "metadata": {
    "ExecuteTime": {
     "end_time": "2025-04-27T11:08:10.929915Z",
     "start_time": "2025-04-27T11:08:10.916916Z"
    }
   },
   "cell_type": "code",
   "source": "X_train.columns",
   "id": "2d38f1453cb1ca67",
   "outputs": [
    {
     "data": {
      "text/plain": [
       "Index(['Binanın_Yaşı', 'Binanın_Kat_Sayısı', 'Banyo_Sayısı', 'Net_Metrekare',\n",
       "       'Oda_Sayısı', 'Bulunduğu_Kat', 'Isıtma_Tipi', 'İlçe', 'Mahalle',\n",
       "       'yaka'],\n",
       "      dtype='object')"
      ]
     },
     "execution_count": 123,
     "metadata": {},
     "output_type": "execute_result"
    }
   ],
   "execution_count": 123
  },
  {
   "metadata": {
    "ExecuteTime": {
     "end_time": "2025-04-27T11:08:11.037272Z",
     "start_time": "2025-04-27T11:08:11.031209Z"
    }
   },
   "cell_type": "code",
   "source": [
    "TRAIN_COLUMNS = X_train.columns.tolist()\n",
    "\n",
    "def make_prediction(building_age, total_floors, bathroom_count, net_area, room_count, floor_number, type_heating, district, neighborhood, side):\n",
    "    data = {\n",
    "        \"Binanın_Yaşı\":        [building_age],\n",
    "        \"Binanın_Kat_Sayısı\":  [total_floors],\n",
    "        \"Banyo_Sayısı\":        [bathroom_count],\n",
    "        \"Net_Metrekare\":       [net_area],\n",
    "        \"Oda_Sayısı\":          [room_count],\n",
    "        \"Bulunduğu_Kat\":       [floor_number],\n",
    "        \"Isıtma_Tipi\":         [type_heating],\n",
    "        \"İlçe\":                [district],\n",
    "        \"Mahalle\":             [neighborhood],\n",
    "        \"yaka\":                [side]\n",
    "    }\n",
    "\n",
    "    ordered_columns = [\"Binanın_Yaşı\", \"Binanın_Kat_Sayısı\", \"Banyo_Sayısı\", \"Net_Metrekare\",\n",
    "                       \"Oda_Sayısı\", \"Bulunduğu_Kat\", \"Isıtma_Tipi\", \"İlçe\", \"Mahalle\", \"yaka\"]\n",
    "    data = {col: data[col] for col in ordered_columns}\n",
    "    input_df = pd.DataFrame(data)\n",
    "\n",
    "    pred_log = model.predict(input_df)[0]\n",
    "    pred = np.expm1(pred_log).round(2)\n",
    "\n",
    "    return f\"Estimated housing price: {pred} million TL\""
   ],
   "id": "805e9f8130394e87",
   "outputs": [],
   "execution_count": 124
  },
  {
   "metadata": {
    "ExecuteTime": {
     "end_time": "2025-04-27T11:08:11.107607Z",
     "start_time": "2025-04-27T11:08:11.084267Z"
    }
   },
   "cell_type": "code",
   "source": [
    "building_age = 10\n",
    "total_floors = 3\n",
    "floor_number = 3\n",
    "net_area = 100\n",
    "room_count = 3\n",
    "bathroom_count = 2\n",
    "district = \"Kadıköy\"\n",
    "neighborhood = \"Erenköy Mahallesi\"\n",
    "side = \"Anadolu Yakası\"\n",
    "type_heating = \"Klimalı\"\n",
    "\n",
    "make_prediction(building_age, total_floors, bathroom_count, net_area, room_count,\n",
    "                floor_number, type_heating, district, neighborhood, side)\n"
   ],
   "id": "89271259ddecbf3f",
   "outputs": [
    {
     "data": {
      "text/plain": [
       "'Estimated housing price: 4.19 million TL'"
      ]
     },
     "execution_count": 125,
     "metadata": {},
     "output_type": "execute_result"
    }
   ],
   "execution_count": 125
  },
  {
   "metadata": {
    "ExecuteTime": {
     "end_time": "2025-04-27T11:08:11.262782Z",
     "start_time": "2025-04-27T11:08:11.168303Z"
    }
   },
   "cell_type": "code",
   "source": [
    "interact(\n",
    "    make_prediction,\n",
    "    building_age = IntSlider(\n",
    "        min   = int(X_train[\"Binanın_Yaşı\"].min()),\n",
    "        max   = int(X_train[\"Binanın_Yaşı\"].max()),\n",
    "        value = int(X_train[\"Binanın_Yaşı\"].mean()),\n",
    "        description = \"Building Age\"\n",
    "    ),\n",
    "\n",
    "    total_floors = IntSlider(\n",
    "        min   = int(X_train[\"Binanın_Kat_Sayısı\"].min()),\n",
    "        max   = int(X_train[\"Binanın_Kat_Sayısı\"].max()),\n",
    "        value = int(X_train[\"Binanın_Kat_Sayısı\"].mean()),\n",
    "        description = \"Total Floors\"\n",
    "    ),\n",
    "\n",
    "    floor_number = IntSlider(\n",
    "        min   = int(X_train[\"Bulunduğu_Kat\"].min()),\n",
    "        max   = int(X_train[\"Binanın_Kat_Sayısı\"].max()),\n",
    "        value = int(X_train[\"Bulunduğu_Kat\"].mean()),\n",
    "        description = \"Floor Number\"\n",
    "    ),\n",
    "\n",
    "    bathroom_count = IntSlider(\n",
    "        min   = int(X_train[\"Banyo_Sayısı\"].min()),\n",
    "        max   = int(X_train[\"Banyo_Sayısı\"].max()),\n",
    "        value = int(X_train[\"Banyo_Sayısı\"].mean()),\n",
    "        description = \"Bathrooms\"\n",
    "    ),\n",
    "\n",
    "    net_area = FloatSlider(\n",
    "        min   = X_train[\"Net_Metrekare\"].min(),\n",
    "        max   = X_train[\"Net_Metrekare\"].max(),\n",
    "        step  = 0.5,\n",
    "        value = X_train[\"Net_Metrekare\"].mean(),\n",
    "        description = \"Net Area (m²)\"\n",
    "    ),\n",
    "\n",
    "    room_count = IntSlider(\n",
    "        min   = int(X_train[\"Oda_Sayısı\"].min()),\n",
    "        max   = int(X_train[\"Oda_Sayısı\"].max()),\n",
    "        value = int(X_train[\"Oda_Sayısı\"].mean()),\n",
    "        description = \"Rooms\"\n",
    "    ),\n",
    "\n",
    "    # ---- kategorik dropdown'lar ----\n",
    "    district = Dropdown(\n",
    "        options = sorted(X_train[\"İlçe\"].unique()),\n",
    "        description = \"District\"\n",
    "    ),\n",
    "\n",
    "    type_heating = Dropdown(\n",
    "        options = sorted(X_train[\"Isıtma_Tipi\"].unique()),\n",
    "        description = \"Heating\"\n",
    "    ),\n",
    "\n",
    "    neighborhood = Dropdown(\n",
    "        options = sorted(X_train[\"Mahalle\"].unique()),\n",
    "        description = \"Neighborhood\"\n",
    "    ),\n",
    "\n",
    "    side = Dropdown(\n",
    "        options = sorted(X_train[\"yaka\"].unique()),\n",
    "        description = \"Side\"\n",
    "    )\n",
    ");\n"
   ],
   "id": "120cd697cf22e6cc",
   "outputs": [
    {
     "data": {
      "text/plain": [
       "interactive(children=(IntSlider(value=8, description='Building Age', max=21), IntSlider(value=8, description='…"
      ],
      "application/vnd.jupyter.widget-view+json": {
       "version_major": 2,
       "version_minor": 0,
       "model_id": "31278c32756f4e94a9021abd16c9d880"
      }
     },
     "metadata": {},
     "output_type": "display_data"
    }
   ],
   "execution_count": 126
  },
  {
   "metadata": {
    "ExecuteTime": {
     "end_time": "2025-04-27T11:08:11.376829Z",
     "start_time": "2025-04-27T11:08:11.373455Z"
    }
   },
   "cell_type": "code",
   "source": "",
   "id": "523dd810b0166aa",
   "outputs": [],
   "execution_count": null
  }
 ],
 "metadata": {
  "kernelspec": {
   "display_name": "Python 3",
   "language": "python",
   "name": "python3"
  },
  "language_info": {
   "codemirror_mode": {
    "name": "ipython",
    "version": 2
   },
   "file_extension": ".py",
   "mimetype": "text/x-python",
   "name": "python",
   "nbconvert_exporter": "python",
   "pygments_lexer": "ipython2",
   "version": "2.7.6"
  }
 },
 "nbformat": 4,
 "nbformat_minor": 5
}
